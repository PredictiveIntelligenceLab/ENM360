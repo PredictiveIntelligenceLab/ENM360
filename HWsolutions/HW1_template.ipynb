{
  "nbformat": 4,
  "nbformat_minor": 0,
  "metadata": {
    "colab": {
      "name": "ENM360_HW1.ipynb",
      "provenance": [],
      "collapsed_sections": []
    },
    "kernelspec": {
      "name": "python3",
      "display_name": "Python 3"
    },
    "language_info": {
      "name": "python"
    }
  },
  "cells": [
    {
      "cell_type": "markdown",
      "metadata": {
        "id": "57bL1_3JoyHV"
      },
      "source": [
        "# Homework-1 (2021)\n",
        "\n",
        "## Problem 1 (Linear Algebra) [30 points]\n",
        "### Subproblem 1 (Operations in Matrix Multiplication) [10 points]\n",
        "Given $A \\in \\mathbb{R}^{1000 \\times 2}, B \\in \\mathbb{R}^{2 \\times 1000}$ and $C \\in \\mathbb{R}^{1000 \\times 1}$, evaluate the number of real number multiplications and additions to compute the product $ABC$ by the two procedures listed below:\n",
        "- (AB)C\n",
        "- A(BC)\n",
        "\n",
        "\n",
        "### Subproblem 2 (Matrix and Vector Norms) [20 points]\n",
        "\n",
        "- [5 points] Show that $||x||_{\\infty} = \\max_i |x_i|$ satisfies the axioms for a vector norm.(Refer [here](https://www.cis.upenn.edu/~cis515/cis515-11-sl4.pdf#page=2))\n",
        "- [10 points] From the definition of a [matrix norm](https://en.wikipedia.org/wiki/Matrix_norm#Matrix_norms_induced_by_vector_norms) show that\n",
        "$||A||_1 = \\max_j \\sum_i |a_{ij}|.$\n",
        "- [5 points] If $||.||_F$ denotes the [Frobenius matrix norm](https://en.wikipedia.org/wiki/Matrix_norm#Frobenius_norm), show that $||QA||_F = ||A||_F$ if $Q$ is an orthogonal matrix.\n"
      ]
    },
    {
      "cell_type": "markdown",
      "metadata": {
        "id": "giQANreguHH7"
      },
      "source": [
        "## Problem 2 (Interpolation) [40 points]\n",
        "\n",
        "- [5 points] Consider the interpolant $p_n(x) = a_0 + a_1 x + a_2 x^2 + \\cdots + a_n x^n$, then, if we want to fit this function to satisfy $\\{x_i, f(x_i)\\}_{\\{i = 0\\}}^{\\{i = n\\}}$, the interpolation condition becomes $p_n(x_i) = f(x_i)$. Using this condition, one can solve for coefficients $a_i$ by solving a matrix problem $V a = f$. Identify the structure of matrix $V$ in this case.\n",
        "- [10 points] Alternatively, we can express $p_n(x)$ more generally as $p_n(x) = a_0 c_0(x) + a_1 c_1(x) + a_2 c_2(x) + \\cdots + a_n c_n(x)$, where the functions $c_i(x)$ form a basis for the space of polynomials of degree $n$. What does $V$ look like now?  Consider the basis function choice $c_k(x) = L_{n, k}(x)$, known as the Lagrange basis defined as\n",
        "$$L_{n, k} = \\prod_{j = 0; j \\neq k}^n \\frac{x - x_j}{x_k - x_j}.$$\n",
        "What does the resulting matrix look like for this choice of basis?\n",
        "\n",
        "- [25 points] Write a Python code to construct the n-th polynomial interpolant to the function $f(x) = \\sin(x) + \\sin(x^2)$ on the interval $[0, 4]$ using equispaced and [Chebyshev](https://en.wikipedia.org/wiki/Chebyshev_nodes) nodes with both approaches listed above for $n = 8, 16, 32, 64, 128, 256, 512$. Compute the interpolation error for each $n$ and set of nodes by evaluating the interpolant on an equispaced fine grid of resolution $n = 1024$ on $[0, 4]$ and then computing the infinity norm of the difference between the interpolant and the exact values of f(x) at those points. Plot these error values against $n$ for each method and explain the results.(HINT: Compute the [condition number](https://numpy.org/doc/stable/reference/generated/numpy.linalg.cond.html) of $V$). A skeleton code has been provided for you below"
      ]
    },
    {
      "cell_type": "code",
      "metadata": {
        "colab": {
          "base_uri": "https://localhost:8080/",
          "height": 128
        },
        "id": "IFj_jczqonIu",
        "outputId": "56958478-79be-46f0-d52d-bbe202612c38"
      },
      "source": [
        "import numpy as np\n",
        "import matplotlib.pyplot as pl\n",
        "\n",
        "def f(x):\n",
        "    \"\"\"\n",
        "    Function we want to numerically approximate\n",
        "    \"\"\"\n",
        "    return np.sin(x) + np.sin(x**2)\n",
        "\n",
        "def lagrangeBasis(x_i):\n",
        "    \"\"\"\n",
        "    Returns a function that returns the Lagrange\n",
        "    basis for the prescribed choice of points x_i\n",
        "    that can be evaluated at any general point x\n",
        "    \"\"\"\n",
        "    # TODO: Fill this to return the Lagrange basis\n",
        "\n",
        "    return basisFunction\n",
        "\n",
        "def monomialBasis(n):\n",
        "    \"\"\"\n",
        "    Returns a function that returns the monomial\n",
        "    basis upto the n-th degree that can be \n",
        "    evaluated at any general point x\n",
        "    \"\"\"\n",
        "    def basisFunction(x):\n",
        "        return x**np.arange(n + 1)\n",
        "\n",
        "    return basisFunction\n",
        "\n",
        "def returnV(c, x_i):\n",
        "    # TODO: Fill this to return matrix V\n",
        "    return V\n",
        "\n",
        "def generateInterpolant(x_i, y_i, c):\n",
        "    \"\"\"\n",
        "    Returns the interpolant that passes through points\n",
        "    {x_i, y_i}\n",
        "\n",
        "    Arguments:\n",
        "    ----------\n",
        "    x_i: np.ndarray\n",
        "         Points where we have queried the original function\n",
        "\n",
        "    y_i: np.ndarray\n",
        "         Function value at x_i\n",
        "\n",
        "    c  : func\n",
        "         Function that returns the basis functions c_i(x) as\n",
        "         stated in the 2nd part of the problem statement\n",
        "    \"\"\"\n",
        "    V = returnV(c, x_i)\n",
        "    \n",
        "    # Obtaining coefficients by inverting matrix V:\n",
        "    # Replace the ? with the RHS vector\n",
        "    a = np.linalg.solve(V, ?)\n",
        "\n",
        "    # Construct interpolant\n",
        "    # p(x) = Σ a_i c_i(x)\n",
        "    interpolant = lambda x:np.sum(a * c(x))\n",
        "    \n",
        "    return interpolant"
      ],
      "execution_count": null,
      "outputs": [
        {
          "output_type": "error",
          "ename": "IndentationError",
          "evalue": "ignored",
          "traceback": [
            "\u001b[0;36m  File \u001b[0;32m\"<ipython-input-1-87b7082a8ae0>\"\u001b[0;36m, line \u001b[0;32m26\u001b[0m\n\u001b[0;31m    return basisFunction\u001b[0m\n\u001b[0m         ^\u001b[0m\n\u001b[0;31mIndentationError\u001b[0m\u001b[0;31m:\u001b[0m expected an indented block\n"
          ]
        }
      ]
    },
    {
      "cell_type": "code",
      "metadata": {
        "id": "8XDUzq_tIUPV"
      },
      "source": [
        "x_finegrid = np.linspace(0, 4, 1024)\n",
        "# Resolutions to test for:\n",
        "N = 2**np.arange(3, 10)\n",
        "# Vectors to store errors:\n",
        "err_eq_mon   = np.zeros(N.size)\n",
        "err_eq_lag   = np.zeros(N.size)\n",
        "err_cheb_mon = np.zeros(N.size)\n",
        "err_cheb_lag = np.zeros(N.size)\n",
        "\n",
        "for i in range(N.size):\n",
        "    n = N[i]\n",
        "    # Equispaced Grid Points:\n",
        "    # Monomial Basis:\n",
        "    x          = np.linspace(0, 4, n + 1)\n",
        "    y          = f(x)\n",
        "    basis      = monomialBasis(n)\n",
        "    eq_mon_int = generateInterpolant(x, y, basis)\n",
        "    \n",
        "    # Lagrange Basis:\n",
        "    basis      = lagrangeBasis(x)\n",
        "    eq_lag_int = generateInterpolant(x, y, basis)\n",
        "\n",
        "    # Chebyshev Grid Points:\n",
        "    # TODO: Generate scaled chebyshev points in [0, 4]\n",
        "    y            = f(x)\n",
        "    basis        = monomialBasis(n)\n",
        "    cheb_mon_int = generateInterpolant(x, y, basis)\n",
        "    \n",
        "    # Lagrange Basis:\n",
        "    basis        = lagrangeBasis(x)\n",
        "    cheb_lag_int = generateInterpolant(x, y, basis)\n",
        "\n",
        "    err_eq_mon[i]   = abs(np.vectorize(eq_mon_int)(x_finegrid) - f(x_finegrid)).max()\n",
        "    err_eq_lag[i]   = abs(np.vectorize(eq_lag_int)(x_finegrid) - f(x_finegrid)).max()\n",
        "    err_cheb_mon[i] = abs(np.vectorize(cheb_mon_int)(x_finegrid) - f(x_finegrid)).max()\n",
        "    err_cheb_lag[i] = abs(np.vectorize(cheb_lag_int)(x_finegrid) - f(x_finegrid)).max()"
      ],
      "execution_count": null,
      "outputs": []
    },
    {
      "cell_type": "markdown",
      "metadata": {
        "id": "7Db8wpRC-5rX"
      },
      "source": [
        "Interpret the plotted results below"
      ]
    },
    {
      "cell_type": "code",
      "metadata": {
        "id": "CrvtsHlK-mbv"
      },
      "source": [
        "pl.loglog(N, err_eq_mon, '-o')\n",
        "pl.loglog(N, err_eq_lag, '-o')\n",
        "pl.loglog(N, err_cheb_mon, '-o')\n",
        "pl.loglog(N, err_cheb_lag, '-o')"
      ],
      "execution_count": null,
      "outputs": []
    },
    {
      "cell_type": "markdown",
      "metadata": {
        "id": "HwD9Yr6D58jy"
      },
      "source": [
        "### Answer (Just for reference now)\n",
        "\n",
        "I've put the complete answer below. Just so that we can add / remove more content as you deem necessary."
      ]
    },
    {
      "cell_type": "code",
      "metadata": {
        "id": "WEm4gCJ21_Ex"
      },
      "source": [
        "import numpy as np\n",
        "import matplotlib.pyplot as pl\n",
        "\n",
        "def f(x):\n",
        "    \"\"\"\n",
        "    Function we want to numerically approximate\n",
        "    \"\"\"\n",
        "    return np.sin(x) + np.sin(x**2)\n",
        "\n",
        "def lagrangeBasis(x_i):\n",
        "    \"\"\"\n",
        "    Returns a function that returns the Lagrange\n",
        "    basis for the prescribed choice of points x_i\n",
        "    that can be evaluated at any general point x\n",
        "    \"\"\"\n",
        "    def basisFunction(x):\n",
        "        numerator   = (np.tile(x, (x_i.size, 1))   - x_i.reshape(1, -1))\n",
        "        numerator   = numerator - np.diag(np.diag(numerator)) + np.eye(x_i.size)\n",
        "        denominator = (x_i.reshape(-1, 1) - x_i.reshape(1, -1)) + np.eye(x_i.size)\n",
        "\n",
        "        return np.product(numerator, axis = 1) / np.product(denominator, axis =1)\n",
        "    \n",
        "    return basisFunction\n",
        "\n",
        "def monomialBasis(n):\n",
        "    \"\"\"\n",
        "    Returns a function that returns the monomial\n",
        "    basis upto the n-th degree that can be \n",
        "    evaluated at any general point x\n",
        "    \"\"\"\n",
        "    def basisFunction(x):\n",
        "        return x**np.arange(n + 1)\n",
        "\n",
        "    return basisFunction\n",
        "\n",
        "def returnV(c, x_i):\n",
        "    n = x_i.size\n",
        "    V = np.zeros([n, n])\n",
        "    for i in range(n):\n",
        "        V[i] = c(x_i[i])\n",
        "    \n",
        "    return V\n",
        "\n",
        "def generateInterpolant(x_i, y_i, c):\n",
        "    \"\"\"\n",
        "    Returns the interpolant that passes through points\n",
        "    {x_i, y_i}\n",
        "\n",
        "    Arguments:\n",
        "    ----------\n",
        "    x_i: np.ndarray\n",
        "         Points where we have queried the original function\n",
        "\n",
        "    y_i: np.ndarray\n",
        "         Function value at x_i\n",
        "\n",
        "    c  : func\n",
        "         Function that returns the basis functions c_i(x) as\n",
        "         stated in the 2nd part of the problem statement\n",
        "    \"\"\"\n",
        "    V = returnV(c, x_i)\n",
        "    \n",
        "    # Obtaining coefficients by inverting matrix V:\n",
        "    a = np.linalg.solve(V, y_i)\n",
        "\n",
        "    # Construct interpolant\n",
        "    # p(x) = Σ a_i c_i(x)\n",
        "    interpolant = lambda x:np.sum(a * c(x))\n",
        "    \n",
        "    return interpolant"
      ],
      "execution_count": null,
      "outputs": []
    },
    {
      "cell_type": "code",
      "metadata": {
        "id": "_1IniIX98ASS",
        "colab": {
          "base_uri": "https://localhost:8080/"
        },
        "outputId": "b76e9207-b48d-4472-d8b6-8c045fc4aa32"
      },
      "source": [
        "x_finegrid = np.linspace(0, 4, 1024)\n",
        "# Resolutions to test for:\n",
        "N = 2**np.arange(3, 10)\n",
        "# Vectors to store errors:\n",
        "err_eq_mon   = np.zeros(N.size)\n",
        "err_eq_lag   = np.zeros(N.size)\n",
        "err_cheb_mon = np.zeros(N.size)\n",
        "err_cheb_lag = np.zeros(N.size)\n",
        "\n",
        "for i in range(N.size):\n",
        "    n = N[i]\n",
        "    # Equispaced Grid Points:\n",
        "    # Monomial Basis:\n",
        "    x          = np.linspace(0, 4, n + 1)\n",
        "    y          = f(x)\n",
        "    basis      = monomialBasis(n)\n",
        "    eq_mon_int = generateInterpolant(x, y, basis)\n",
        "    \n",
        "    # Lagrange Basis:\n",
        "    basis      = lagrangeBasis(x)\n",
        "    eq_lag_int = generateInterpolant(x, y, basis)\n",
        "\n",
        "    # Chebyshev Grid Points:\n",
        "    x            = 2 * (np.polynomial.chebyshev.chebpts1(n + 1) + 1)\n",
        "    y            = f(x)\n",
        "    basis        = monomialBasis(n)\n",
        "    cheb_mon_int = generateInterpolant(x, y, basis)\n",
        "    \n",
        "    # Lagrange Basis:\n",
        "    basis        = lagrangeBasis(x)\n",
        "    cheb_lag_int = generateInterpolant(x, y, basis)\n",
        "\n",
        "    err_eq_mon[i]   = abs(np.vectorize(eq_mon_int)(x_finegrid) - f(x_finegrid)).max()\n",
        "    err_eq_lag[i]   = abs(np.vectorize(eq_lag_int)(x_finegrid) - f(x_finegrid)).max()\n",
        "    err_cheb_mon[i] = abs(np.vectorize(cheb_mon_int)(x_finegrid) - f(x_finegrid)).max()\n",
        "    err_cheb_lag[i] = abs(np.vectorize(cheb_lag_int)(x_finegrid) - f(x_finegrid)).max()"
      ],
      "execution_count": null,
      "outputs": [
        {
          "output_type": "stream",
          "name": "stderr",
          "text": [
            "/usr/local/lib/python3.7/dist-packages/ipykernel_launcher.py:32: RuntimeWarning: overflow encountered in power\n"
          ]
        }
      ]
    },
    {
      "cell_type": "code",
      "metadata": {
        "colab": {
          "base_uri": "https://localhost:8080/",
          "height": 286
        },
        "id": "ZccsGa2lGkRE",
        "outputId": "c47566d5-ea2f-441b-e41c-0367fcd4cd24"
      },
      "source": [
        "pl.loglog(N, err_eq_mon, '-o')\n",
        "pl.loglog(N, err_eq_lag, '-o')\n",
        "pl.loglog(N, err_cheb_mon, '-o')\n",
        "pl.loglog(N, err_cheb_lag, '-o')"
      ],
      "execution_count": null,
      "outputs": [
        {
          "output_type": "execute_result",
          "data": {
            "text/plain": [
              "[<matplotlib.lines.Line2D at 0x7f877b20de10>]"
            ]
          },
          "metadata": {},
          "execution_count": 13
        },
        {
          "output_type": "display_data",
          "data": {
            "image/png": "[encoded data removed]",
            "text/plain": [
              "<Figure size 432x288 with 1 Axes>"
            ]
          },
          "metadata": {
            "needs_background": "light"
          }
        }
      ]
    },
    {
      "cell_type": "markdown",
      "metadata": {
        "id": "oON_qUKwoxnF"
      },
      "source": [
        "## Problem 3 (Numerical Quadrature) [30 Points]\n",
        "\n",
        "Write a Python code to numerically approximate the values of four integrals:\n",
        "- $\\int_0^1 4 \\pi x \\sin(20 \\pi x) \\cos (2 \\pi x) dx = -20 / 99$\n",
        "- $\\int_0^1 \\sin(2 \\pi x) \\cos (4 \\pi x) dx = 0$\n",
        "- $\\int_0^5 G(x) dx = 15 / 2$, where\n",
        "$$G(x) = \\begin{cases}\n",
        "    x + 1, & \\text{for } x < 1 \\\\\n",
        "    3 - x, & \\text{for } 1 \\leq x \\leq 3 \\\\\n",
        "    2, & \\text{for } x > 3\n",
        "  \\end{cases}$$\n",
        "- $\\int_0^1 x^{5/4} dx = 4/9$\n",
        "\n",
        "Compute each integral using a) the composite trapezium quadrature and b) Gauss-Legendre quadrature with $n = 16, 32, 64, 128, 256$. For each integral produce a plot showing the convergence of the error with $n$ for each of the three different methods. Comment."
      ]
    },
    {
      "cell_type": "code",
      "metadata": {
        "id": "7cJ8Z4YPGjdv"
      },
      "source": [
        ""
      ],
      "execution_count": null,
      "outputs": []
    }
  ]
}